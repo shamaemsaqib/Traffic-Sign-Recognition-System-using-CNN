{
 "cells": [
  {
   "cell_type": "markdown",
   "id": "ad48240b",
   "metadata": {},
   "source": [
    "# Step 7: Building the Interface using Tkinter"
   ]
  },
  {
   "cell_type": "markdown",
   "id": "64d02a5f",
   "metadata": {},
   "source": [
    "## Pre-requisites if only running interface and not whole file"
   ]
  },
  {
   "cell_type": "code",
   "execution_count": 1,
   "id": "74014771",
   "metadata": {},
   "outputs": [],
   "source": [
    "import tkinter as tk\n",
    "import PIL\n",
    "import cv2\n",
    "import csv\n",
    "import numpy as np\n",
    "from keras.models import load_model\n",
    "from PIL import ImageTk\n",
    "from tkinter import *\n",
    "from tkinter import filedialog\n",
    "from tqdm import tqdm\n",
    "from skimage import exposure\n",
    "\n",
    "#load the previously trained model\n",
    "model = load_model('final_model.h5')\n",
    "\n",
    "labels_dict = None\n",
    "with open('mapSignnamesToClass.csv', mode='r') as infile:\n",
    "    reader = csv.reader(infile)\n",
    "    next(reader, None)\n",
    "    labels_dict = {int(rows[0]):rows[1] for rows in reader}\n",
    "    \n",
    "# Function that applies normalization and local contrast enhancement\n",
    "def normalize(image_data):\n",
    "    '''Contrast Limited Adaptive Histogram Equalization (CLAHE). In addition to regular normalization, \n",
    "    this function provides local contrast enhancement -- i.e., details of the image can be \n",
    "    enhanced even in regions that are darker or lighter than most of the image.\n",
    "    http://scikit-image.org/docs/dev/api/skimage.exposure.html#skimage.exposure.equalize_adapthist\n",
    "    '''\n",
    "    \n",
    "    norm = np.array([exposure.equalize_adapthist(image, clip_limit=0.1) for image in tqdm(image_data)])\n",
    "    return norm"
   ]
  },
  {
   "cell_type": "markdown",
   "id": "b5a9ca17",
   "metadata": {},
   "source": [
    "## Interface"
   ]
  },
  {
   "cell_type": "code",
   "execution_count": 2,
   "id": "0cd17249",
   "metadata": {},
   "outputs": [
    {
     "name": "stderr",
     "output_type": "stream",
     "text": [
      "100%|██████████| 1/1 [00:00<00:00,  3.37it/s]\n"
     ]
    },
    {
     "name": "stdout",
     "output_type": "stream",
     "text": [
      "1/1 [==============================] - 10s 10s/step\n",
      "Keep right\n"
     ]
    }
   ],
   "source": [
    "#initialise GUI\n",
    "top=tk.Tk()\n",
    "top.geometry('800x600')\n",
    "top.title('Traffic Sign Recognition System usig CNN')\n",
    "top.configure(background='#3F4E4F')\n",
    "\n",
    "#Heading\n",
    "heading = Label(top, text=\"TRAFFIC SIGN CLASSIFICATION\",pady=20, font=('MS Sans Serif',22,'bold'))\n",
    "heading.configure(background='#3F4E4F',foreground='#DCD7C9')\n",
    "heading.pack()\n",
    "\n",
    "#Frame for button section\n",
    "btn_frame = Frame(top, background='#3F4E4F')\n",
    "btn_frame.pack()\n",
    "btn_frame.place(anchor='e', relx=0.95, rely=0.5)\n",
    "\n",
    "classify_btn_frame = Frame(btn_frame, background='#3F4E4F')\n",
    "classify_btn_frame.pack(side=TOP)\n",
    "\n",
    "#Frame for Image section\n",
    "image_frame= Frame(top, width=400, height=400, background='#3F4E4F')\n",
    "image_frame.pack()\n",
    "image_frame.place(anchor='w', relx=0.15, rely=0.5)\n",
    "\n",
    "sign_image = Label(image_frame, background='#3F4E4F')\n",
    "sign_image.pack(side=TOP, pady=10)\n",
    "\n",
    "label=Label(image_frame, background='#3F4E4F', foreground='#DCD7C9', font=('MS Sans Serif',17))\n",
    "label.pack(side=BOTTOM)\n",
    "\n",
    "#Predict the class\n",
    "def classify(file_path):\n",
    "    global label_packed\n",
    "    image = cv2.imread(file_path)\n",
    "    image = PIL.Image.fromarray(image, 'RGB')\n",
    "    image = image.resize((30,30))\n",
    "    image = np.expand_dims(image, axis=0)\n",
    "    image = np.array(image)\n",
    "    image = image/255\n",
    "    image = normalize(image)\n",
    "    pred = model.predict(image)\n",
    "    result = pred.argmax()\n",
    "    sign = labels_dict[result]\n",
    "    print(sign)\n",
    "    label.configure(text=sign) \n",
    "\n",
    "#Show classify button when image is uploaded\n",
    "def show_classify_button(file_path):\n",
    "    classify_btn.configure(command=lambda: classify(file_path))\n",
    "    classify_btn.pack(side=TOP)\n",
    "    \n",
    "def upload_image():\n",
    "    try:\n",
    "        file_path=filedialog.askopenfilename()\n",
    "        uploaded=PIL.Image.open(file_path)\n",
    "        uploaded = uploaded.resize((400, 300))\n",
    "        im=ImageTk.PhotoImage(uploaded)\n",
    "        sign_image.configure(image=im)\n",
    "        sign_image.image=im\n",
    "        label.configure(text='')\n",
    "        show_classify_button(file_path)\n",
    "    except:\n",
    "        pass\n",
    "\n",
    "upload_btn=Button(btn_frame, text=\"Browse Image\", command=upload_image, padx=15, pady=10)\n",
    "upload_btn.configure(background='#DCD7C9', foreground='#2C3639',font=('Courier New',12,'bold'))\n",
    "upload_btn.pack(side=BOTTOM, pady=20)\n",
    "\n",
    "classify_btn=Button(classify_btn_frame,text=\"Classify Sign\", padx=11, pady=8)\n",
    "classify_btn.configure(background='#DCD7C9', foreground='#2C3639',font=('Courier New',12,'bold'))\n",
    "\n",
    "top.mainloop()"
   ]
  },
  {
   "cell_type": "code",
   "execution_count": null,
   "id": "9d057136",
   "metadata": {},
   "outputs": [],
   "source": []
  }
 ],
 "metadata": {
  "kernelspec": {
   "display_name": "Python 3 (ipykernel)",
   "language": "python",
   "name": "python3"
  },
  "language_info": {
   "codemirror_mode": {
    "name": "ipython",
    "version": 3
   },
   "file_extension": ".py",
   "mimetype": "text/x-python",
   "name": "python",
   "nbconvert_exporter": "python",
   "pygments_lexer": "ipython3",
   "version": "3.9.12"
  }
 },
 "nbformat": 4,
 "nbformat_minor": 5
}
